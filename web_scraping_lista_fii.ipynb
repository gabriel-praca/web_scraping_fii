{
  "nbformat": 4,
  "nbformat_minor": 0,
  "metadata": {
    "colab": {
      "name": "web_scraping_lista_fii.ipynb",
      "provenance": [],
      "authorship_tag": "ABX9TyP4WZWwAY2539LS0DrSub7c"
    },
    "kernelspec": {
      "name": "python3",
      "display_name": "Python 3"
    },
    "language_info": {
      "name": "python"
    }
  },
  "cells": [
    {
      "cell_type": "code",
      "source": [
        "#  > /dev/null for silent execution (without logs)\n",
        "!apt-get update  > /dev/null\n",
        "!apt install chromium-chromedriver > /dev/null"
      ],
      "metadata": {
        "colab": {
          "base_uri": "https://localhost:8080/"
        },
        "id": "_FMGChC_nZZZ",
        "outputId": "e3cb08d0-63bf-470a-d4ea-989e20679d5d"
      },
      "execution_count": null,
      "outputs": [
        {
          "output_type": "stream",
          "name": "stdout",
          "text": [
            "\n",
            "WARNING: apt does not have a stable CLI interface. Use with caution in scripts.\n",
            "\n"
          ]
        }
      ]
    },
    {
      "cell_type": "code",
      "source": [
        "!pip3 install selenium > /dev/null"
      ],
      "metadata": {
        "id": "vpMGY1646ZS6",
        "colab": {
          "base_uri": "https://localhost:8080/"
        },
        "outputId": "893404aa-825f-4a02-959e-fbc5f28cc926"
      },
      "execution_count": null,
      "outputs": [
        {
          "output_type": "stream",
          "name": "stdout",
          "text": [
            "\u001b[31mERROR: pip's dependency resolver does not currently take into account all the packages that are installed. This behaviour is the source of the following dependency conflicts.\n",
            "requests 2.23.0 requires urllib3!=1.25.0,!=1.25.1,<1.26,>=1.21.1, but you have urllib3 1.26.9 which is incompatible.\n",
            "datascience 0.10.6 requires folium==0.2.1, but you have folium 0.8.3 which is incompatible.\u001b[0m\n"
          ]
        }
      ]
    },
    {
      "cell_type": "code",
      "source": [
        "from selenium import webdriver\n",
        "from selenium.common.exceptions import TimeoutException\n",
        "from selenium.webdriver.support.ui import WebDriverWait\n",
        "from selenium.webdriver.support import expected_conditions as EC\n",
        "from selenium.webdriver.common.by import By\n",
        "\n",
        "from bs4 import BeautifulSoup\n",
        "import requests\n",
        "import json\n",
        "import pandas as pd\n",
        "import numpy as np"
      ],
      "metadata": {
        "id": "bLUQ-0TlO9rV"
      },
      "execution_count": null,
      "outputs": []
    },
    {
      "cell_type": "code",
      "source": [
        "options = webdriver.ChromeOptions()\n",
        "options.add_argument('--headless')\n",
        "options.add_argument('--no-sandbox')\n",
        "options.add_argument('--disable-dev-shm-usage')\n",
        "\n",
        "# Bypass captcha (recognizing bot)\n",
        "options.add_argument('--disable-blink-features=AutomationControlled')\n",
        "options.add_argument(\"window-size=1280,800\")\n",
        "options.add_argument(\"user-agent=Mozilla/5.0 (Windows NT 10.0; Win64; x64) AppleWebKit/537.36 (KHTML, like Gecko) Chrome/74.0.3729.169 Safari/537.36\")\n",
        "\n",
        "driver = webdriver.Chrome('chromedriver',options=options)"
      ],
      "metadata": {
        "id": "CTzqMeCcnoFp"
      },
      "execution_count": null,
      "outputs": []
    },
    {
      "cell_type": "code",
      "source": [
        "def get_url_from_context(context):\n",
        "  f = open('/content/sample_data/urls.json')\n",
        "  return json.load(f)[context]"
      ],
      "metadata": {
        "id": "k28S2rFM3V3J"
      },
      "execution_count": null,
      "outputs": []
    },
    {
      "cell_type": "code",
      "source": [
        "def pd_drop_columns(df, cols):\n",
        "  for col in cols:\n",
        "    df.drop(col, inplace=True, axis=1)\n",
        "  return df"
      ],
      "metadata": {
        "id": "pDXxSNro5rR2"
      },
      "execution_count": null,
      "outputs": []
    },
    {
      "cell_type": "code",
      "source": [
        "def get_fiis_base_info():\n",
        "  driver.get(get_url_from_context('url_fii_base'))\n",
        "  main_table = driver.find_element(by=By.CLASS_NAME, value='tabela_principal')\n",
        "\n",
        "  # outerHTML to get table tag too\n",
        "  df_main_table = pd.read_html(main_table.get_attribute('outerHTML'))[0]\n",
        "  df_main_table = pd_drop_columns(df_main_table, ['RELATÓRIOS DE ANÁLISE','FEED'])\n",
        "  df_main_table[\"VALOR COTA\"] = df_main_table[\"VALOR COTA\"].apply(lambda x: str(x).split(' ')[0])\n",
        "\n",
        "  return df_main_table"
      ],
      "metadata": {
        "id": "HhrsxWZrzjqc"
      },
      "execution_count": null,
      "outputs": []
    },
    {
      "cell_type": "code",
      "source": [
        "def get_ticker_info(ticker):\n",
        "  try:\n",
        "    page = requests.get(get_url_from_context('url_fii_info')+ticker)\n",
        "    soup = BeautifulSoup(page.content, 'html.parser')\n",
        "\n",
        "    infos = soup.find_all(class_='info')\n",
        "\n",
        "    ticker_price  = infos[0].find('strong', {'class': 'value'}).text\n",
        "    last_dividend = infos[15].find('strong', {'class': 'value'}).text\n",
        "    dy            = infos[15].find('b', {'class': 'sub-value'}).text\n",
        "    dy_12_months  = infos[3].find('strong', {'class': 'value'}).text\n",
        "    p_vp          = infos[6].find('strong', {'class': 'value'}).text\n",
        "\n",
        "    ret = pd.DataFrame({\n",
        "            'CÓDIGO': [ticker],\n",
        "            'ULTIMO_DIVIDENDO': [last_dividend],\n",
        "            'DY': [dy],\n",
        "            'DY12': [dy_12_months],\n",
        "            'P/VP': [p_vp]\n",
        "          })\n",
        "    return ret\n",
        "  except Exception as e:\n",
        "    # print(e)\n",
        "    ret = pd.DataFrame({\n",
        "            'CÓDIGO': [None],\n",
        "            'ULTIMO_DIVIDENDO': [None],\n",
        "            'DY': [None],\n",
        "            'DY12': [None],\n",
        "            'P/VP': [None]\n",
        "          })\n",
        "    return ret"
      ],
      "metadata": {
        "id": "_dtnkBzG89r8"
      },
      "execution_count": null,
      "outputs": []
    },
    {
      "cell_type": "code",
      "source": [
        "def get_fiis_full(df_main_table):\n",
        "  ticker_infos = None\n",
        "  for index, row in df_main_table.iterrows():\n",
        "    ticker = row['CÓDIGO']\n",
        "    if ticker_infos is None:\n",
        "      ticker_infos = get_ticker_info(ticker)\n",
        "    else:\n",
        "      ticker_infos = pd.concat([ticker_infos, get_ticker_info(ticker)], ignore_index=True)\n",
        "  ticker_infos.dropna(how='all', inplace=True)\n",
        "\n",
        "  return pd.merge(df_main_table, ticker_infos, how='left', on='CÓDIGO')"
      ],
      "metadata": {
        "id": "bohGLBGr1Iha"
      },
      "execution_count": null,
      "outputs": []
    },
    {
      "cell_type": "code",
      "source": [
        "def get_wallet():\n",
        "  df_wallet = pd_drop_columns(pd.read_csv('/content/Historico.csv', sep=';', decimal=','), ['Data', 'Total'])\n",
        "  df_wallet = df_wallet.astype({'Valor':'float','Quantidade':'int'})\n",
        "\n",
        "  df_wallet[\"VALOR_TOTAL\"] = df_wallet[\"Valor\"] * df_wallet[\"Quantidade\"]\n",
        "  df_wallet = df_wallet.groupby(['Ticker'], as_index=False).agg(VALOR_TOTAL=('VALOR_TOTAL', 'sum'), QUANTIDADE=('Quantidade', 'sum')).round(2)\n",
        "  df_wallet[\"PM\"] = (df_wallet[\"VALOR_TOTAL\"] / df_wallet[\"QUANTIDADE\"]).round(2)\n",
        "\n",
        "  return df_wallet"
      ],
      "metadata": {
        "id": "HbSvgUVB413X"
      },
      "execution_count": null,
      "outputs": []
    },
    {
      "cell_type": "code",
      "source": [
        "df_fiis_full = get_fiis_full(get_fiis_base_info())\n",
        "\n",
        "display(df_fiis_full)"
      ],
      "metadata": {
        "colab": {
          "base_uri": "https://localhost:8080/",
          "height": 468
        },
        "id": "cim30ePuUh0I",
        "outputId": "b1de2676-d313-4f91-9098-dc8156854969"
      },
      "execution_count": null,
      "outputs": [
        {
          "output_type": "display_data",
          "data": {
            "text/plain": [
              "     CÓDIGO                             NOME VALOR COTA    DATA IPO  \\\n",
              "0    ABCP11             Grand Plaza Shopping      72,50  12/03/2004   \n",
              "1    AFHI11                    AF Invest CRI     102,79  05/04/2021   \n",
              "2    AFOF11                      Alianza FOF      91,00  23/03/2021   \n",
              "3    AIEC11  Autonomy Edifícios Corporativos      77,10  02/09/2020   \n",
              "4    ALMI11                  Torre Almirante     930,00  01/06/2005   \n",
              "..      ...                              ...        ...         ...   \n",
              "429  XPPR11                    XP Properties      55,15  09/12/2019   \n",
              "430  XPSF11                     XP Selection       7,23  17/02/2019   \n",
              "431  XTED11       TRX Edifícios Corporativos       6,02  13/11/2012   \n",
              "432  YUFI11                             Yuca     105,00  09/11/2020   \n",
              "433  ZIFI11                     Zion Capital   1.155,00  30/06/2021   \n",
              "\n",
              "      VALOR IPO                 SEGMENTO     ADMINISTRADOR ULTIMO_DIVIDENDO  \\\n",
              "0       R$18,50          Shopping/Varejo         RIO BRAVO           0,5900   \n",
              "1      R$100,00  Recebíveis Imobiliários       BTG PACTUAL           1,3500   \n",
              "2      R$100,00          Fundo de Fundos         BRL TRUST           1,1355   \n",
              "3      R$100,00         Lajes Comerciais               MAF           0,7200   \n",
              "4    R$1.000,00         Lajes Comerciais       BTG PACTUAL           0,3711   \n",
              "..          ...                      ...               ...              ...   \n",
              "429    R$100,00         Lajes Comerciais             VÓRTX           0,4500   \n",
              "430     R$10,00          Fundo de Fundos  XP INVESTIMENTOS           0,0680   \n",
              "431    R$100,00         Lajes Comerciais       BTG PACTUAL           0,3233   \n",
              "432    R$100,00              Residencial         BRL TRUST           0,2044   \n",
              "433  R$1.000,00                   Outros           PLANNER           4,8135   \n",
              "\n",
              "         DY   DY12  P/VP  \n",
              "0    0,8138   8,87  0,79  \n",
              "1    1,3527  13,13  1,07  \n",
              "2    1,2697  13,48  0,89  \n",
              "3    0,8967  11,50  0,76  \n",
              "4    0,0217   0,00  0,42  \n",
              "..      ...    ...   ...  \n",
              "429  0,7692  10,90  0,70  \n",
              "430  0,0926  11,45  0,08  \n",
              "431  1,4439   0,00  0,43  \n",
              "432       -   0,00     -  \n",
              "433       -   0,42  0,96  \n",
              "\n",
              "[434 rows x 11 columns]"
            ],
            "text/html": [
              "\n",
              "  <div id=\"df-90fc18f7-0edf-4749-9908-de361d6440c1\">\n",
              "    <div class=\"colab-df-container\">\n",
              "      <div>\n",
              "<style scoped>\n",
              "    .dataframe tbody tr th:only-of-type {\n",
              "        vertical-align: middle;\n",
              "    }\n",
              "\n",
              "    .dataframe tbody tr th {\n",
              "        vertical-align: top;\n",
              "    }\n",
              "\n",
              "    .dataframe thead th {\n",
              "        text-align: right;\n",
              "    }\n",
              "</style>\n",
              "<table border=\"1\" class=\"dataframe\">\n",
              "  <thead>\n",
              "    <tr style=\"text-align: right;\">\n",
              "      <th></th>\n",
              "      <th>CÓDIGO</th>\n",
              "      <th>NOME</th>\n",
              "      <th>VALOR COTA</th>\n",
              "      <th>DATA IPO</th>\n",
              "      <th>VALOR IPO</th>\n",
              "      <th>SEGMENTO</th>\n",
              "      <th>ADMINISTRADOR</th>\n",
              "      <th>ULTIMO_DIVIDENDO</th>\n",
              "      <th>DY</th>\n",
              "      <th>DY12</th>\n",
              "      <th>P/VP</th>\n",
              "    </tr>\n",
              "  </thead>\n",
              "  <tbody>\n",
              "    <tr>\n",
              "      <th>0</th>\n",
              "      <td>ABCP11</td>\n",
              "      <td>Grand Plaza Shopping</td>\n",
              "      <td>72,50</td>\n",
              "      <td>12/03/2004</td>\n",
              "      <td>R$18,50</td>\n",
              "      <td>Shopping/Varejo</td>\n",
              "      <td>RIO BRAVO</td>\n",
              "      <td>0,5900</td>\n",
              "      <td>0,8138</td>\n",
              "      <td>8,87</td>\n",
              "      <td>0,79</td>\n",
              "    </tr>\n",
              "    <tr>\n",
              "      <th>1</th>\n",
              "      <td>AFHI11</td>\n",
              "      <td>AF Invest CRI</td>\n",
              "      <td>102,79</td>\n",
              "      <td>05/04/2021</td>\n",
              "      <td>R$100,00</td>\n",
              "      <td>Recebíveis Imobiliários</td>\n",
              "      <td>BTG PACTUAL</td>\n",
              "      <td>1,3500</td>\n",
              "      <td>1,3527</td>\n",
              "      <td>13,13</td>\n",
              "      <td>1,07</td>\n",
              "    </tr>\n",
              "    <tr>\n",
              "      <th>2</th>\n",
              "      <td>AFOF11</td>\n",
              "      <td>Alianza FOF</td>\n",
              "      <td>91,00</td>\n",
              "      <td>23/03/2021</td>\n",
              "      <td>R$100,00</td>\n",
              "      <td>Fundo de Fundos</td>\n",
              "      <td>BRL TRUST</td>\n",
              "      <td>1,1355</td>\n",
              "      <td>1,2697</td>\n",
              "      <td>13,48</td>\n",
              "      <td>0,89</td>\n",
              "    </tr>\n",
              "    <tr>\n",
              "      <th>3</th>\n",
              "      <td>AIEC11</td>\n",
              "      <td>Autonomy Edifícios Corporativos</td>\n",
              "      <td>77,10</td>\n",
              "      <td>02/09/2020</td>\n",
              "      <td>R$100,00</td>\n",
              "      <td>Lajes Comerciais</td>\n",
              "      <td>MAF</td>\n",
              "      <td>0,7200</td>\n",
              "      <td>0,8967</td>\n",
              "      <td>11,50</td>\n",
              "      <td>0,76</td>\n",
              "    </tr>\n",
              "    <tr>\n",
              "      <th>4</th>\n",
              "      <td>ALMI11</td>\n",
              "      <td>Torre Almirante</td>\n",
              "      <td>930,00</td>\n",
              "      <td>01/06/2005</td>\n",
              "      <td>R$1.000,00</td>\n",
              "      <td>Lajes Comerciais</td>\n",
              "      <td>BTG PACTUAL</td>\n",
              "      <td>0,3711</td>\n",
              "      <td>0,0217</td>\n",
              "      <td>0,00</td>\n",
              "      <td>0,42</td>\n",
              "    </tr>\n",
              "    <tr>\n",
              "      <th>...</th>\n",
              "      <td>...</td>\n",
              "      <td>...</td>\n",
              "      <td>...</td>\n",
              "      <td>...</td>\n",
              "      <td>...</td>\n",
              "      <td>...</td>\n",
              "      <td>...</td>\n",
              "      <td>...</td>\n",
              "      <td>...</td>\n",
              "      <td>...</td>\n",
              "      <td>...</td>\n",
              "    </tr>\n",
              "    <tr>\n",
              "      <th>429</th>\n",
              "      <td>XPPR11</td>\n",
              "      <td>XP Properties</td>\n",
              "      <td>55,15</td>\n",
              "      <td>09/12/2019</td>\n",
              "      <td>R$100,00</td>\n",
              "      <td>Lajes Comerciais</td>\n",
              "      <td>VÓRTX</td>\n",
              "      <td>0,4500</td>\n",
              "      <td>0,7692</td>\n",
              "      <td>10,90</td>\n",
              "      <td>0,70</td>\n",
              "    </tr>\n",
              "    <tr>\n",
              "      <th>430</th>\n",
              "      <td>XPSF11</td>\n",
              "      <td>XP Selection</td>\n",
              "      <td>7,23</td>\n",
              "      <td>17/02/2019</td>\n",
              "      <td>R$10,00</td>\n",
              "      <td>Fundo de Fundos</td>\n",
              "      <td>XP INVESTIMENTOS</td>\n",
              "      <td>0,0680</td>\n",
              "      <td>0,0926</td>\n",
              "      <td>11,45</td>\n",
              "      <td>0,08</td>\n",
              "    </tr>\n",
              "    <tr>\n",
              "      <th>431</th>\n",
              "      <td>XTED11</td>\n",
              "      <td>TRX Edifícios Corporativos</td>\n",
              "      <td>6,02</td>\n",
              "      <td>13/11/2012</td>\n",
              "      <td>R$100,00</td>\n",
              "      <td>Lajes Comerciais</td>\n",
              "      <td>BTG PACTUAL</td>\n",
              "      <td>0,3233</td>\n",
              "      <td>1,4439</td>\n",
              "      <td>0,00</td>\n",
              "      <td>0,43</td>\n",
              "    </tr>\n",
              "    <tr>\n",
              "      <th>432</th>\n",
              "      <td>YUFI11</td>\n",
              "      <td>Yuca</td>\n",
              "      <td>105,00</td>\n",
              "      <td>09/11/2020</td>\n",
              "      <td>R$100,00</td>\n",
              "      <td>Residencial</td>\n",
              "      <td>BRL TRUST</td>\n",
              "      <td>0,2044</td>\n",
              "      <td>-</td>\n",
              "      <td>0,00</td>\n",
              "      <td>-</td>\n",
              "    </tr>\n",
              "    <tr>\n",
              "      <th>433</th>\n",
              "      <td>ZIFI11</td>\n",
              "      <td>Zion Capital</td>\n",
              "      <td>1.155,00</td>\n",
              "      <td>30/06/2021</td>\n",
              "      <td>R$1.000,00</td>\n",
              "      <td>Outros</td>\n",
              "      <td>PLANNER</td>\n",
              "      <td>4,8135</td>\n",
              "      <td>-</td>\n",
              "      <td>0,42</td>\n",
              "      <td>0,96</td>\n",
              "    </tr>\n",
              "  </tbody>\n",
              "</table>\n",
              "<p>434 rows × 11 columns</p>\n",
              "</div>\n",
              "      <button class=\"colab-df-convert\" onclick=\"convertToInteractive('df-90fc18f7-0edf-4749-9908-de361d6440c1')\"\n",
              "              title=\"Convert this dataframe to an interactive table.\"\n",
              "              style=\"display:none;\">\n",
              "        \n",
              "  <svg xmlns=\"http://www.w3.org/2000/svg\" height=\"24px\"viewBox=\"0 0 24 24\"\n",
              "       width=\"24px\">\n",
              "    <path d=\"M0 0h24v24H0V0z\" fill=\"none\"/>\n",
              "    <path d=\"M18.56 5.44l.94 2.06.94-2.06 2.06-.94-2.06-.94-.94-2.06-.94 2.06-2.06.94zm-11 1L8.5 8.5l.94-2.06 2.06-.94-2.06-.94L8.5 2.5l-.94 2.06-2.06.94zm10 10l.94 2.06.94-2.06 2.06-.94-2.06-.94-.94-2.06-.94 2.06-2.06.94z\"/><path d=\"M17.41 7.96l-1.37-1.37c-.4-.4-.92-.59-1.43-.59-.52 0-1.04.2-1.43.59L10.3 9.45l-7.72 7.72c-.78.78-.78 2.05 0 2.83L4 21.41c.39.39.9.59 1.41.59.51 0 1.02-.2 1.41-.59l7.78-7.78 2.81-2.81c.8-.78.8-2.07 0-2.86zM5.41 20L4 18.59l7.72-7.72 1.47 1.35L5.41 20z\"/>\n",
              "  </svg>\n",
              "      </button>\n",
              "      \n",
              "  <style>\n",
              "    .colab-df-container {\n",
              "      display:flex;\n",
              "      flex-wrap:wrap;\n",
              "      gap: 12px;\n",
              "    }\n",
              "\n",
              "    .colab-df-convert {\n",
              "      background-color: #E8F0FE;\n",
              "      border: none;\n",
              "      border-radius: 50%;\n",
              "      cursor: pointer;\n",
              "      display: none;\n",
              "      fill: #1967D2;\n",
              "      height: 32px;\n",
              "      padding: 0 0 0 0;\n",
              "      width: 32px;\n",
              "    }\n",
              "\n",
              "    .colab-df-convert:hover {\n",
              "      background-color: #E2EBFA;\n",
              "      box-shadow: 0px 1px 2px rgba(60, 64, 67, 0.3), 0px 1px 3px 1px rgba(60, 64, 67, 0.15);\n",
              "      fill: #174EA6;\n",
              "    }\n",
              "\n",
              "    [theme=dark] .colab-df-convert {\n",
              "      background-color: #3B4455;\n",
              "      fill: #D2E3FC;\n",
              "    }\n",
              "\n",
              "    [theme=dark] .colab-df-convert:hover {\n",
              "      background-color: #434B5C;\n",
              "      box-shadow: 0px 1px 3px 1px rgba(0, 0, 0, 0.15);\n",
              "      filter: drop-shadow(0px 1px 2px rgba(0, 0, 0, 0.3));\n",
              "      fill: #FFFFFF;\n",
              "    }\n",
              "  </style>\n",
              "\n",
              "      <script>\n",
              "        const buttonEl =\n",
              "          document.querySelector('#df-90fc18f7-0edf-4749-9908-de361d6440c1 button.colab-df-convert');\n",
              "        buttonEl.style.display =\n",
              "          google.colab.kernel.accessAllowed ? 'block' : 'none';\n",
              "\n",
              "        async function convertToInteractive(key) {\n",
              "          const element = document.querySelector('#df-90fc18f7-0edf-4749-9908-de361d6440c1');\n",
              "          const dataTable =\n",
              "            await google.colab.kernel.invokeFunction('convertToInteractive',\n",
              "                                                     [key], {});\n",
              "          if (!dataTable) return;\n",
              "\n",
              "          const docLinkHtml = 'Like what you see? Visit the ' +\n",
              "            '<a target=\"_blank\" href=https://colab.research.google.com/notebooks/data_table.ipynb>data table notebook</a>'\n",
              "            + ' to learn more about interactive tables.';\n",
              "          element.innerHTML = '';\n",
              "          dataTable['output_type'] = 'display_data';\n",
              "          await google.colab.output.renderOutput(dataTable, element);\n",
              "          const docLink = document.createElement('div');\n",
              "          docLink.innerHTML = docLinkHtml;\n",
              "          element.appendChild(docLink);\n",
              "        }\n",
              "      </script>\n",
              "    </div>\n",
              "  </div>\n",
              "  "
            ]
          },
          "metadata": {}
        }
      ]
    },
    {
      "cell_type": "code",
      "source": [
        "df_wallet = get_wallet()\n",
        "\n",
        "display(df_wallet)"
      ],
      "metadata": {
        "id": "kPhOBhVk5Pdb"
      },
      "execution_count": null,
      "outputs": []
    },
    {
      "cell_type": "code",
      "source": [
        "columns_to_drop = ['Ticker', 'DATA IPO', 'VALOR IPO', 'DY12', 'DY']\n",
        "df_indicator = pd_drop_columns(pd.merge(df_wallet, df_fiis_full, left_on='Ticker', right_on='CÓDIGO'), columns_to_drop)\n",
        "\n",
        "df_indicator[\"ULTIMO_DIVIDENDO\"] = df_indicator.apply(lambda x: float(x[\"ULTIMO_DIVIDENDO\"].replace('.', '').replace(',', '.')),axis=1)\n",
        "df_indicator[\"VALOR COTA\"] = df_indicator.apply(lambda x: float(x[\"VALOR COTA\"].replace('.', '').replace(',', '.')),axis=1)\n",
        "\n",
        "df_indicator[\"DY_CARTEIRA\"] = df_indicator[\"ULTIMO_DIVIDENDO\"] / df_indicator[\"PM\"] * 100\n",
        "df_indicator[\"DY_FII_ATUAL\"] = df_indicator[\"ULTIMO_DIVIDENDO\"] / df_indicator[\"VALOR COTA\"] * 100\n",
        "display(df_indicator)"
      ],
      "metadata": {
        "id": "b_IZONsPgrUm"
      },
      "execution_count": null,
      "outputs": []
    },
    {
      "cell_type": "code",
      "source": [
        "print(df_indicator['VALOR_TOTAL'].sum())"
      ],
      "metadata": {
        "id": "juxSVlmGFXzB"
      },
      "execution_count": null,
      "outputs": []
    },
    {
      "cell_type": "code",
      "source": [
        "print(df_indicator['DY'].sum() / len(df_indicator))"
      ],
      "metadata": {
        "id": "nJvu_zVXe987"
      },
      "execution_count": null,
      "outputs": []
    },
    {
      "cell_type": "code",
      "source": [
        ""
      ],
      "metadata": {
        "id": "da9YnljkmAI4"
      },
      "execution_count": null,
      "outputs": []
    }
  ]
}